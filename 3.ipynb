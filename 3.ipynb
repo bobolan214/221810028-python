{
 "cells": [
  {
   "cell_type": "code",
   "execution_count": 115,
   "id": "d6af226b-99cc-4520-ba63-fc05a646b435",
   "metadata": {},
   "outputs": [
    {
     "name": "stdout",
     "output_type": "stream",
     "text": [
      "trek\n"
     ]
    }
   ],
   "source": [
    "bicycles=['trek','cannondale','redline','specialized']\n",
    "print(bicycles[0])"
   ]
  },
  {
   "cell_type": "code",
   "execution_count": 44,
   "id": "3b080964-4a4b-4b3b-aeb6-6ade860d52f7",
   "metadata": {},
   "outputs": [
    {
     "name": "stdout",
     "output_type": "stream",
     "text": [
      "Trek\n"
     ]
    }
   ],
   "source": [
    "bicycles=['trek','cannondale','redline','specialized']\n",
    "print(bicycles[0].title())"
   ]
  },
  {
   "cell_type": "code",
   "execution_count": 45,
   "id": "017a5a9c-4058-44d8-adb1-7a02844876c5",
   "metadata": {},
   "outputs": [
    {
     "name": "stdout",
     "output_type": "stream",
     "text": [
      "cannondale\n"
     ]
    }
   ],
   "source": [
    "bicycles=['trek','cannondale','redline','specialized']\n",
    "print(bicycles[1])"
   ]
  },
  {
   "cell_type": "code",
   "execution_count": 46,
   "id": "60ca2b27-4cb2-4078-8d6e-f5de0007f0b4",
   "metadata": {},
   "outputs": [
    {
     "name": "stdout",
     "output_type": "stream",
     "text": [
      "specialized\n"
     ]
    }
   ],
   "source": [
    "bicycles=['trek','cannondale','redline','specialized']\n",
    "print(bicycles[3])"
   ]
  },
  {
   "cell_type": "code",
   "execution_count": 47,
   "id": "3069711e-ff0a-48ec-aad4-5a80b51893e5",
   "metadata": {},
   "outputs": [
    {
     "name": "stdout",
     "output_type": "stream",
     "text": [
      "specialized\n"
     ]
    }
   ],
   "source": [
    "bicycles=['trek','cannondale','redline','specialized']\n",
    "print(bicycles[-1])"
   ]
  },
  {
   "cell_type": "code",
   "execution_count": 48,
   "id": "b85e112e-e6e9-4eeb-b9a4-a32d19268c07",
   "metadata": {},
   "outputs": [
    {
     "name": "stdout",
     "output_type": "stream",
     "text": [
      "My first bicycle was a Trek\n"
     ]
    }
   ],
   "source": [
    "bicycles=['trek','cannondale','redline','specialized']\n",
    "message=f\"My first bicycle was a {bicycles[0].title()}\"\n",
    "print(message)"
   ]
  },
  {
   "cell_type": "code",
   "execution_count": 49,
   "id": "326f8080-99de-4123-bfb1-5850010892c2",
   "metadata": {},
   "outputs": [
    {
     "name": "stdout",
     "output_type": "stream",
     "text": [
      "hijikatatoushirou\n"
     ]
    }
   ],
   "source": [
    "name=['hijikatatoushirou','sakatagintoki','sakuranohanama']\n",
    "print(name[0])"
   ]
  },
  {
   "cell_type": "code",
   "execution_count": 51,
   "id": "72bd98ee-0c87-4534-b910-4acd8612753a",
   "metadata": {},
   "outputs": [
    {
     "name": "stdout",
     "output_type": "stream",
     "text": [
      "sakatagintoki\n"
     ]
    }
   ],
   "source": [
    "name=['hijikatatoushirou','sakatagintoki','sakuranohanama']\n",
    "print(name[1])"
   ]
  },
  {
   "cell_type": "code",
   "execution_count": 50,
   "id": "2db56fca-e69b-479c-991b-335353dfce5d",
   "metadata": {},
   "outputs": [
    {
     "name": "stdout",
     "output_type": "stream",
     "text": [
      "sakuranohanama\n"
     ]
    }
   ],
   "source": [
    "name=['hijikatatoushirou','sakatagintoki','sakuranohanama']\n",
    "print(name[2])"
   ]
  },
  {
   "cell_type": "code",
   "execution_count": 52,
   "id": "6327e8be-6550-4d72-9ad9-7d23ccdb438a",
   "metadata": {},
   "outputs": [
    {
     "name": "stdout",
     "output_type": "stream",
     "text": [
      "Hello,Hijikatatoushirou\n"
     ]
    }
   ],
   "source": [
    "name=['hijikatatoushirou','sakatagintoki','sakuranohanama']\n",
    "message=f'Hello,{name[0].title()}'\n",
    "print(message)"
   ]
  },
  {
   "cell_type": "code",
   "execution_count": 55,
   "id": "076adee1-91f6-4ca4-9254-402e52065cf4",
   "metadata": {},
   "outputs": [
    {
     "name": "stdout",
     "output_type": "stream",
     "text": [
      "I usually go to classroom on foot.\n"
     ]
    }
   ],
   "source": [
    "traffic=['on foot','by bus','drive car']\n",
    "message=f'I usually go to classroom {traffic[0]}.'\n",
    "print(message)"
   ]
  },
  {
   "cell_type": "code",
   "execution_count": 56,
   "id": "039531fd-6208-4197-afd0-9b752f1c920a",
   "metadata": {},
   "outputs": [
    {
     "name": "stdout",
     "output_type": "stream",
     "text": [
      "['hijikatatoushirou', 'anyujin', 'sakuranohanama']\n"
     ]
    }
   ],
   "source": [
    "name=['hijikatatoushirou','sakatagintoki','sakuranohanama']\n",
    "name[1]='anyujin'\n",
    "print(name)"
   ]
  },
  {
   "cell_type": "code",
   "execution_count": 57,
   "id": "c3e230ab-5cd3-4926-b8fc-7610dbe9213a",
   "metadata": {},
   "outputs": [
    {
     "name": "stdout",
     "output_type": "stream",
     "text": [
      "['hijikatatoushirou', 'sakatagintoki', 'sakuranohanama', 'anyujin']\n"
     ]
    }
   ],
   "source": [
    "name=['hijikatatoushirou','sakatagintoki','sakuranohanama']\n",
    "name.append('anyujin')\n",
    "print(name)"
   ]
  },
  {
   "cell_type": "code",
   "execution_count": 58,
   "id": "850f6706-5278-4ec2-addc-b5b345bd598a",
   "metadata": {},
   "outputs": [
    {
     "name": "stdout",
     "output_type": "stream",
     "text": [
      "['hijikatatoushirou', 'sakatagintoki', 'sakuranohanama']\n"
     ]
    }
   ],
   "source": [
    "name=[]\n",
    "name.append('hijikatatoushirou')\n",
    "name.append('sakatagintoki')\n",
    "name.append('sakuranohanama')\n",
    "print(name)"
   ]
  },
  {
   "cell_type": "code",
   "execution_count": 59,
   "id": "5861589b-66f3-40f8-a15f-767a83b06544",
   "metadata": {},
   "outputs": [
    {
     "name": "stdout",
     "output_type": "stream",
     "text": [
      "['hijikatatoushirou', 'anyujin', 'sakatagintoki', 'sakuranohanama']\n"
     ]
    }
   ],
   "source": [
    "name=['hijikatatoushirou','sakatagintoki','sakuranohanama']\n",
    "name.insert(1,'anyujin')\n",
    "print(name)"
   ]
  },
  {
   "cell_type": "code",
   "execution_count": 60,
   "id": "8a3d347f-aa64-4b59-be01-09f3cc061957",
   "metadata": {},
   "outputs": [
    {
     "name": "stdout",
     "output_type": "stream",
     "text": [
      "['hijikatatoushirou', 'sakuranohanama']\n"
     ]
    }
   ],
   "source": [
    "name=['hijikatatoushirou','sakatagintoki','sakuranohanama']\n",
    "del name[1]\n",
    "print(name)"
   ]
  },
  {
   "cell_type": "code",
   "execution_count": 62,
   "id": "39a03fc8-ad6c-4c07-aa8c-258de428a4a9",
   "metadata": {},
   "outputs": [
    {
     "name": "stdout",
     "output_type": "stream",
     "text": [
      "['hijikatatoushirou', 'sakatagintoki']\n",
      "sakuranohanama\n"
     ]
    }
   ],
   "source": [
    "name=['hijikatatoushirou','sakatagintoki','sakuranohanama']\n",
    "popped_name=name.pop()\n",
    "print(name)\n",
    "print(popped_name)"
   ]
  },
  {
   "cell_type": "code",
   "execution_count": 63,
   "id": "ea2b75ff-60ae-4588-9332-c3ce4f929c7d",
   "metadata": {},
   "outputs": [
    {
     "name": "stdout",
     "output_type": "stream",
     "text": [
      "My Japanise name is Sakuranohanama\n"
     ]
    }
   ],
   "source": [
    "name=['hijikatatoushirou','sakatagintoki','sakuranohanama']\n",
    "my_name=name.pop()\n",
    "print(f'My Japanise name is {my_name.title()}')"
   ]
  },
  {
   "cell_type": "code",
   "execution_count": 65,
   "id": "e13f791f-5410-4397-908d-b1625d988142",
   "metadata": {},
   "outputs": [
    {
     "name": "stdout",
     "output_type": "stream",
     "text": [
      "My favorite man is Hijikatatoushirou\n"
     ]
    }
   ],
   "source": [
    "name=['hijikatatoushirou','sakatagintoki','sakuranohanama']\n",
    "favorite_man=name.pop(0)\n",
    "print(f'My favorite man is {favorite_man.title()}')"
   ]
  },
  {
   "cell_type": "code",
   "execution_count": 66,
   "id": "52880893-3527-4d3d-a02f-c949465a93d4",
   "metadata": {},
   "outputs": [
    {
     "name": "stdout",
     "output_type": "stream",
     "text": [
      "['hijikatatoushirou', 'sakuranohanama']\n"
     ]
    }
   ],
   "source": [
    "name=['hijikatatoushirou','sakatagintoki','sakuranohanama']\n",
    "name.remove('sakatagintoki')\n",
    "print(name)"
   ]
  },
  {
   "cell_type": "code",
   "execution_count": 3,
   "id": "8af58dff-8a31-4bc2-aeab-402af2035671",
   "metadata": {},
   "outputs": [
    {
     "name": "stdout",
     "output_type": "stream",
     "text": [
      "['hijikatatoushirou', 'sakatagintoki', 'sakuranohanama']\n",
      "['sakatagintoki', 'sakuranohanama']\n",
      "\n",
      "Hijikatatoushirou is important for me.\n"
     ]
    }
   ],
   "source": [
    "name=['hijikatatoushirou','sakatagintoki','sakuranohanama']\n",
    "print(name)\n",
    "important='hijikatatoushirou'\n",
    "name.remove(important)\n",
    "print(name)\n",
    "print(f\"\\n{important.title()} is important for me.\")"
   ]
  },
  {
   "cell_type": "code",
   "execution_count": 17,
   "id": "f1e2457c-d065-4227-8b7e-1c2db38b322b",
   "metadata": {},
   "outputs": [
    {
     "name": "stdout",
     "output_type": "stream",
     "text": [
      "Hijikata,please have dinner with me.\n",
      "Anyujin,please have dinner with me.\n",
      "Gintoki,please have dinner with me.\n"
     ]
    }
   ],
   "source": [
    "list=['hijikata','anyujin','gintoki']\n",
    "print(f\"{list[0].title()},please have dinner with me.\")\n",
    "print(f\"{list[1].title()},please have dinner with me.\")\n",
    "print(f\"{list[2].title()},please have dinner with me.\")"
   ]
  },
  {
   "cell_type": "code",
   "execution_count": 19,
   "id": "cf8ddc37-40cc-4008-a8b8-6dcb9de3a8dd",
   "metadata": {},
   "outputs": [
    {
     "name": "stdout",
     "output_type": "stream",
     "text": [
      "Hijikata,please have dinner with me.\n",
      "Anyujin,please have dinner with me.\n",
      "Gintoki,please have dinner with me.\n",
      "Gintoki is no time.\n",
      "Sakura,please have a dinner with me.\n"
     ]
    }
   ],
   "source": [
    "list=['hijikata','anyujin','gintoki']\n",
    "print(f\"{list[0].title()},please have dinner with me.\")\n",
    "print(f\"{list[1].title()},please have dinner with me.\")\n",
    "print(f\"{list[2].title()},please have dinner with me.\")\n",
    "print(f'{list[2].title()} is no time.')\n",
    "list[2]='sakura'\n",
    "print(f'{list[2].title()},please have a dinner with me.')"
   ]
  },
  {
   "cell_type": "code",
   "execution_count": 25,
   "id": "c1ea7f7e-8536-44c7-8475-a98641d7244f",
   "metadata": {},
   "outputs": [
    {
     "name": "stdout",
     "output_type": "stream",
     "text": [
      "Hijikata,please have dinner with me.\n",
      "Anyujin,please have dinner with me.\n",
      "Gintoki,please have dinner with me.\n",
      "Gintoki is no time.\n",
      "Sakura,please have a dinner with me.\n",
      "I find a bigger board.\n",
      "Mimi,please have a dinner with me.\n",
      "Hijikata,please have a dinner with me.\n",
      "Xiaomi,please have a dinner with me.\n",
      "Anyujin,please have a dinner with me.\n",
      "Sakura,please have a dinner with me.\n",
      "Miao,please have a dinner with me.\n"
     ]
    }
   ],
   "source": [
    "list=['hijikata','anyujin','gintoki']\n",
    "print(f\"{list[0].title()},please have dinner with me.\")\n",
    "print(f\"{list[1].title()},please have dinner with me.\")\n",
    "print(f\"{list[2].title()},please have dinner with me.\")\n",
    "print(f'{list[2].title()} is no time.')\n",
    "list[2]='sakura'\n",
    "print(f'{list[2].title()},please have a dinner with me.')\n",
    "print('I find a bigger board.')\n",
    "list.insert(0,'mimi')\n",
    "list.insert(2,'xiaomi')\n",
    "list.append('miao')\n",
    "print(f'{list[0].title()},please have a dinner with me.')\n",
    "print(f'{list[1].title()},please have a dinner with me.')\n",
    "print(f'{list[2].title()},please have a dinner with me.')\n",
    "print(f'{list[3].title()},please have a dinner with me.')\n",
    "print(f'{list[4].title()},please have a dinner with me.')\n",
    "print(f'{list[5].title()},please have a dinner with me.')"
   ]
  },
  {
   "cell_type": "code",
   "execution_count": 39,
   "id": "0d5a002d-f8dc-49a3-9801-5286f8c32b76",
   "metadata": {},
   "outputs": [
    {
     "name": "stdout",
     "output_type": "stream",
     "text": [
      "Hijikata,please have dinner with me.\n",
      "Anyujin,please have dinner with me.\n",
      "Gintoki,please have dinner with me.\n",
      "Gintoki is no time.\n",
      "Sakura,please have a dinner with me.\n",
      "I find a bigger board.\n",
      "Mimi,please have a dinner with me.\n",
      "Hijikata,please have a dinner with me.\n",
      "Xiaomi,please have a dinner with me.\n",
      "Anyujin,please have a dinner with me.\n",
      "Sakura,please have a dinner with me.\n",
      "Miao,please have a dinner with me.\n",
      "I can invite just 2 friends.\n",
      "So sorry for I can not have dinner with you,Mimi.\n",
      "So sorry for I can not have dinner with you,Xiaomi.\n",
      "So sorry for I can not have dinner with you,Sakura.\n",
      "So sorry for I can not have dinner with you,Miao.\n",
      "I still have dinner with you,dear Hijikata.\n",
      "I still have dinner with you,dear Anyujin.\n",
      "[]\n"
     ]
    }
   ],
   "source": [
    "list=['hijikata','anyujin','gintoki']\n",
    "print(f\"{list[0].title()},please have dinner with me.\")\n",
    "print(f\"{list[1].title()},please have dinner with me.\")\n",
    "print(f\"{list[2].title()},please have dinner with me.\")\n",
    "print(f'{list[2].title()} is no time.')\n",
    "list[2]='sakura'\n",
    "print(f'{list[2].title()},please have a dinner with me.')\n",
    "print('I find a bigger board.')\n",
    "list.insert(0,'mimi')\n",
    "list.insert(2,'xiaomi')\n",
    "list.append('miao')\n",
    "print(f'{list[0].title()},please have a dinner with me.')\n",
    "print(f'{list[1].title()},please have a dinner with me.')\n",
    "print(f'{list[2].title()},please have a dinner with me.')\n",
    "print(f'{list[3].title()},please have a dinner with me.')\n",
    "print(f'{list[4].title()},please have a dinner with me.')\n",
    "print(f'{list[5].title()},please have a dinner with me.')\n",
    "print('I can invite just 2 friends.')\n",
    "popped_1=list.pop(0)\n",
    "print(f'So sorry for I can not have dinner with you,{popped_1.title()}.')\n",
    "popped_2=list.pop(1)\n",
    "print(f'So sorry for I can not have dinner with you,{popped_2.title()}.')\n",
    "popped_3=list.pop(2)\n",
    "print(f'So sorry for I can not have dinner with you,{popped_3.title()}.')\n",
    "popped_4=list.pop(2)\n",
    "print(f'So sorry for I can not have dinner with you,{popped_4.title()}.')\n",
    "print(f'I still have dinner with you,dear {list[0].title()}.')\n",
    "print(f'I still have dinner with you,dear {list[1].title()}.')\n",
    "del list[0]\n",
    "del list[0]\n",
    "print(list)"
   ]
  },
  {
   "cell_type": "code",
   "execution_count": 41,
   "id": "d8beaf7b-3f65-4111-8518-d57867986013",
   "metadata": {},
   "outputs": [
    {
     "name": "stdout",
     "output_type": "stream",
     "text": [
      "['audi', 'bmw', 'subaru', 'toyota']\n"
     ]
    }
   ],
   "source": [
    "cars=['bmw', 'audi', 'toyota', 'subaru']\n",
    "cars.sort()\n",
    "print(cars)"
   ]
  },
  {
   "cell_type": "code",
   "execution_count": 65,
   "id": "8ffa331e-afc0-46b0-b60f-fc9daa671cc2",
   "metadata": {},
   "outputs": [
    {
     "name": "stdout",
     "output_type": "stream",
     "text": [
      "['toyota', 'subaru', 'bmw', 'audi']\n"
     ]
    }
   ],
   "source": [
    "cars=['bmw', 'audi', 'toyota', 'subaru']\n",
    "cars.sort(reverse=True)\n",
    "print(cars)"
   ]
  },
  {
   "cell_type": "code",
   "execution_count": 45,
   "id": "e8f8c720-7cdd-4be8-a98a-d2ec6f5b7ce0",
   "metadata": {},
   "outputs": [
    {
     "name": "stdout",
     "output_type": "stream",
     "text": [
      "Here is the original list:\n",
      "['bmw', 'audi', 'toyota', 'subaru']\n",
      "\n",
      "Here is the sorted list:\n",
      "['audi', 'bmw', 'subaru', 'toyota']\n",
      "\n",
      "Here is the original list again:\n",
      "['bmw', 'audi', 'toyota', 'subaru']\n"
     ]
    }
   ],
   "source": [
    "cars=['bmw', 'audi', 'toyota', 'subaru']\n",
    "print(\"Here is the original list:\")\n",
    "print(cars)\n",
    "print(\"\\nHere is the sorted list:\")\n",
    "print(sorted(cars))\n",
    "print(\"\\nHere is the original list again:\")\n",
    "print(cars)"
   ]
  },
  {
   "cell_type": "code",
   "execution_count": 47,
   "id": "671f9c56-d2cb-4d7b-9fba-8969bbe2436b",
   "metadata": {},
   "outputs": [
    {
     "name": "stdout",
     "output_type": "stream",
     "text": [
      "['bmw', 'audi', 'toyota', 'subaru']\n",
      "['subaru', 'toyota', 'audi', 'bmw']\n"
     ]
    }
   ],
   "source": [
    "cars=['bmw', 'audi', 'toyota', 'subaru']\n",
    "print(cars)\n",
    "cars.reverse()\n",
    "print(cars)"
   ]
  },
  {
   "cell_type": "code",
   "execution_count": 49,
   "id": "3b052c13-138b-4c0c-8f17-855d15b2be4a",
   "metadata": {},
   "outputs": [
    {
     "data": {
      "text/plain": [
       "4"
      ]
     },
     "execution_count": 49,
     "metadata": {},
     "output_type": "execute_result"
    }
   ],
   "source": [
    "cars=['bmw', 'audi', 'toyota', 'subaru']\n",
    "len(cars)"
   ]
  },
  {
   "cell_type": "code",
   "execution_count": 91,
   "id": "149f4b4e-5d8a-4326-b2e4-ab649298ec84",
   "metadata": {},
   "outputs": [
    {
     "name": "stdout",
     "output_type": "stream",
     "text": [
      "['Liuzhou', 'Japan', 'Shanghai', 'Chengdu', 'Guangzhou']\n",
      "['Chengdu', 'Guangzhou', 'Japan', 'Liuzhou', 'Shanghai']\n",
      "['Liuzhou', 'Japan', 'Shanghai', 'Chengdu', 'Guangzhou']\n",
      "['Shanghai', 'Liuzhou', 'Japan', 'Guangzhou', 'Chengdu']\n",
      "['Liuzhou', 'Japan', 'Shanghai', 'Chengdu', 'Guangzhou']\n",
      "['Guangzhou', 'Chengdu', 'Shanghai', 'Japan', 'Liuzhou']\n",
      "['Liuzhou', 'Japan', 'Shanghai', 'Chengdu', 'Guangzhou']\n",
      "['Chengdu', 'Guangzhou', 'Japan', 'Liuzhou', 'Shanghai']\n",
      "['Shanghai', 'Liuzhou', 'Japan', 'Guangzhou', 'Chengdu']\n"
     ]
    }
   ],
   "source": [
    "travel=['Liuzhou','Japan','Shanghai','Chengdu','Guangzhou']\n",
    "print(travel)\n",
    "print(sorted(travel))\n",
    "print(travel)\n",
    "print(sorted(travel,reverse=True))\n",
    "print(travel)\n",
    "travel.reverse()\n",
    "print(travel)\n",
    "travel.reverse()\n",
    "print(travel)\n",
    "travel.sort()\n",
    "print(travel)\n",
    "travel.sort(reverse=True)\n",
    "print(travel)"
   ]
  },
  {
   "cell_type": "code",
   "execution_count": 93,
   "id": "17cb1555-508a-4a3a-9bbb-55132ae39bbc",
   "metadata": {},
   "outputs": [
    {
     "name": "stdout",
     "output_type": "stream",
     "text": [
      "Hijikata,please have dinner with me.\n",
      "Anyujin,please have dinner with me.\n",
      "Gintoki,please have dinner with me.\n",
      "Gintoki is no time.\n",
      "Sakura,please have a dinner with me.\n",
      "I find a bigger board.\n",
      "Mimi,please have a dinner with me.\n",
      "Hijikata,please have a dinner with me.\n",
      "Xiaomi,please have a dinner with me.\n",
      "Anyujin,please have a dinner with me.\n",
      "Sakura,please have a dinner with me.\n",
      "Miao,please have a dinner with me.\n"
     ]
    },
    {
     "data": {
      "text/plain": [
       "6"
      ]
     },
     "execution_count": 93,
     "metadata": {},
     "output_type": "execute_result"
    }
   ],
   "source": [
    "list=['hijikata','anyujin','gintoki']\n",
    "print(f\"{list[0].title()},please have dinner with me.\")\n",
    "print(f\"{list[1].title()},please have dinner with me.\")\n",
    "print(f\"{list[2].title()},please have dinner with me.\")\n",
    "print(f'{list[2].title()} is no time.')\n",
    "list[2]='sakura'\n",
    "print(f'{list[2].title()},please have a dinner with me.')\n",
    "print('I find a bigger board.')\n",
    "list.insert(0,'mimi')\n",
    "list.insert(2,'xiaomi')\n",
    "list.append('miao')\n",
    "print(f'{list[0].title()},please have a dinner with me.')\n",
    "print(f'{list[1].title()},please have a dinner with me.')\n",
    "print(f'{list[2].title()},please have a dinner with me.')\n",
    "print(f'{list[3].title()},please have a dinner with me.')\n",
    "print(f'{list[4].title()},please have a dinner with me.')\n",
    "print(f'{list[5].title()},please have a dinner with me.')\n",
    "len(list)"
   ]
  },
  {
   "cell_type": "code",
   "execution_count": 105,
   "id": "01bd7e30-d2f5-4f66-ab8b-8d3082254856",
   "metadata": {},
   "outputs": [
    {
     "name": "stdout",
     "output_type": "stream",
     "text": [
      "['cat', 'food', 'game', 'hijikata', 'sing']\n",
      "['sing', 'hijikata', 'game', 'food', 'cat']\n",
      "['cat', 'food', 'game', 'hijikata', 'sing']\n",
      "['sing', 'hijikata', 'game', 'food', 'cat']\n"
     ]
    }
   ],
   "source": [
    "list=['hijikata','cat','food','game','sing']\n",
    "list.sort()\n",
    "print(list)\n",
    "list.sort(reverse=True)\n",
    "print(list)\n",
    "print(sorted(list))\n",
    "sorted(list,reverse=True)\n",
    "print(list)"
   ]
  },
  {
   "cell_type": "code",
   "execution_count": 107,
   "id": "668eeed5-d96f-4c7e-a8fe-ac1ddbf19698",
   "metadata": {},
   "outputs": [
    {
     "name": "stdout",
     "output_type": "stream",
     "text": [
      "C\n"
     ]
    }
   ],
   "source": [
    "name=['A', 'B', 'C']\n",
    "print(name[-1])"
   ]
  },
  {
   "cell_type": "code",
   "execution_count": 111,
   "id": "296185b8-0e80-4f30-8da3-5f993001a161",
   "metadata": {},
   "outputs": [
    {
     "name": "stdout",
     "output_type": "stream",
     "text": [
      "C\n"
     ]
    }
   ],
   "source": [
    "name=['A', 'B', 'C']\n",
    "print(name[2])"
   ]
  }
 ],
 "metadata": {
  "kernelspec": {
   "display_name": "Python 3 (ipykernel)",
   "language": "python",
   "name": "python3"
  },
  "language_info": {
   "codemirror_mode": {
    "name": "ipython",
    "version": 3
   },
   "file_extension": ".py",
   "mimetype": "text/x-python",
   "name": "python",
   "nbconvert_exporter": "python",
   "pygments_lexer": "ipython3",
   "version": "3.11.7"
  }
 },
 "nbformat": 4,
 "nbformat_minor": 5
}
