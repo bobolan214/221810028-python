{
 "cells": [
  {
   "cell_type": "code",
   "execution_count": 1,
   "id": "1c92e761-2460-46e5-bf36-0b000a46b5da",
   "metadata": {},
   "outputs": [
    {
     "name": "stdout",
     "output_type": "stream",
     "text": [
      "Hello Python interpreter!\n"
     ]
    }
   ],
   "source": [
    "print(\"Hello Python interpreter!\")"
   ]
  },
  {
   "cell_type": "code",
   "execution_count": 5,
   "id": "3c4bcff8-ce6c-4710-a9f3-cdaee5845d49",
   "metadata": {},
   "outputs": [
    {
     "name": "stdout",
     "output_type": "stream",
     "text": [
      "Hello Python world!\n",
      "Hello python Crash Course world!\n"
     ]
    }
   ],
   "source": [
    "message=\"Hello Python world!\"\n",
    "print(message)\n",
    "\n",
    "message=\"Hello python Crash Course world!\"\n",
    "print(message)"
   ]
  },
  {
   "cell_type": "code",
   "execution_count": 7,
   "id": "624d93aa-d445-45c9-b11c-0f0cd2488ea1",
   "metadata": {},
   "outputs": [
    {
     "name": "stdout",
     "output_type": "stream",
     "text": [
      "Hello python Crash Course world!\n"
     ]
    }
   ],
   "source": [
    "mesage=\"Hello python Crash Course world!\"\n",
    "print(mesage)"
   ]
  },
  {
   "cell_type": "code",
   "execution_count": 9,
   "id": "f096c930-86b5-4a2c-b3a4-2933be0c0e3a",
   "metadata": {},
   "outputs": [
    {
     "name": "stdout",
     "output_type": "stream",
     "text": [
      "sakuranohana\n"
     ]
    }
   ],
   "source": [
    "message=\"sakuranohana\"\n",
    "print(message)"
   ]
  },
  {
   "cell_type": "code",
   "execution_count": 10,
   "id": "6eaea497-c9ad-4c85-838d-170eeefb0dab",
   "metadata": {},
   "outputs": [
    {
     "name": "stdout",
     "output_type": "stream",
     "text": [
      "Sukuranohana Ma\n"
     ]
    }
   ],
   "source": [
    "name=\"sukuranohana ma\"\n",
    "print(name.title())"
   ]
  },
  {
   "cell_type": "code",
   "execution_count": 11,
   "id": "0c2e1c93-e0c3-494f-a8b4-fd5e19bdcfb6",
   "metadata": {},
   "outputs": [
    {
     "name": "stdout",
     "output_type": "stream",
     "text": [
      "SUKURANOHANA MA\n",
      "sukuranohana ma\n"
     ]
    }
   ],
   "source": [
    "name=\"sukuranohana ma\"\n",
    "print(name.upper())\n",
    "print(name.lower())"
   ]
  },
  {
   "cell_type": "code",
   "execution_count": 14,
   "id": "7f480d0d-c387-488b-8feb-360bb47ced96",
   "metadata": {},
   "outputs": [
    {
     "name": "stdout",
     "output_type": "stream",
     "text": [
      "sukuranohana ma\n"
     ]
    }
   ],
   "source": [
    "first_name=\"sukuranohana\"\n",
    "last_name=\"ma\"\n",
    "full_name=f\"{first_name} {last_name}\"\n",
    "print(full_name)"
   ]
  },
  {
   "cell_type": "code",
   "execution_count": 15,
   "id": "c3f3c3a5-0e66-4754-9aa9-b45d589f8a50",
   "metadata": {},
   "outputs": [
    {
     "name": "stdout",
     "output_type": "stream",
     "text": [
      "Hello,Sukuranohana Ma!\n"
     ]
    }
   ],
   "source": [
    "first_name=\"sukuranohana\"\n",
    "last_name=\"ma\"\n",
    "full_name=f\"{first_name} {last_name}\"\n",
    "print(f\"Hello,{full_name.title()}!\")"
   ]
  },
  {
   "cell_type": "code",
   "execution_count": 15,
   "id": "cb4fd8e9-a6b7-48a9-9977-6d7049371bff",
   "metadata": {},
   "outputs": [
    {
     "name": "stdout",
     "output_type": "stream",
     "text": [
      "Hello,Sukuranohana Ma!\n"
     ]
    }
   ],
   "source": [
    "first_name=\"sukuranohana\"\n",
    "last_name=\"ma\"\n",
    "full_name=f\"{first_name} {last_name}\"\n",
    "print(f\"Hello,{full_name.title()}!\")"
   ]
  },
  {
   "cell_type": "code",
   "execution_count": 16,
   "id": "1acace02-a59b-4971-b2d4-133b06e7008c",
   "metadata": {},
   "outputs": [
    {
     "name": "stdout",
     "output_type": "stream",
     "text": [
      "Hello,Sukuranohana Ma!\n"
     ]
    }
   ],
   "source": [
    "first_name=\"sukuranohana\"\n",
    "last_name=\"ma\"\n",
    "full_name=f\"{first_name} {last_name}\"\n",
    "message=f\"Hello,{full_name.title()}!\"\n",
    "print(message)"
   ]
  },
  {
   "cell_type": "code",
   "execution_count": 19,
   "id": "1da5186e-38cf-4f79-a3eb-52be0c02c387",
   "metadata": {},
   "outputs": [
    {
     "name": "stdout",
     "output_type": "stream",
     "text": [
      "\tPython\n"
     ]
    }
   ],
   "source": [
    "print(\"\\tPython\")"
   ]
  },
  {
   "cell_type": "code",
   "execution_count": 20,
   "id": "b47b5dcd-8946-42eb-b27d-50b8051d4b8a",
   "metadata": {},
   "outputs": [
    {
     "name": "stdout",
     "output_type": "stream",
     "text": [
      "Languages:\n",
      "Python\n",
      "C\n",
      "JavaScript\n"
     ]
    }
   ],
   "source": [
    "print(\"Languages:\\nPython\\nC\\nJavaScript\")"
   ]
  },
  {
   "cell_type": "code",
   "execution_count": 21,
   "id": "c3040e15-7817-4cbc-9f08-db224ed17e2a",
   "metadata": {},
   "outputs": [
    {
     "name": "stdout",
     "output_type": "stream",
     "text": [
      "Languages:\n",
      "\tPython\n",
      "\tC\n",
      "\tJavaCript\n"
     ]
    }
   ],
   "source": [
    "print(\"Languages:\\n\\tPython\\n\\tC\\n\\tJavaCript\")"
   ]
  },
  {
   "cell_type": "code",
   "execution_count": 22,
   "id": "7c8709a2-9f1e-4fec-afd9-1bc2c5383660",
   "metadata": {},
   "outputs": [
    {
     "data": {
      "text/plain": [
       "'python '"
      ]
     },
     "execution_count": 22,
     "metadata": {},
     "output_type": "execute_result"
    }
   ],
   "source": [
    "favorite_language='python '\n",
    "favorite_language"
   ]
  },
  {
   "cell_type": "code",
   "execution_count": 23,
   "id": "165b3d9e-1711-4f52-b1a5-bcabf3e58a38",
   "metadata": {},
   "outputs": [
    {
     "data": {
      "text/plain": [
       "'python'"
      ]
     },
     "execution_count": 23,
     "metadata": {},
     "output_type": "execute_result"
    }
   ],
   "source": [
    "favorite_language='python '\n",
    "favorite_language\n",
    "favorite_language.rstrip()"
   ]
  },
  {
   "cell_type": "code",
   "execution_count": 24,
   "id": "57ec94ea-a88b-4e5e-be46-a82ffb5d69c3",
   "metadata": {},
   "outputs": [
    {
     "data": {
      "text/plain": [
       "'python '"
      ]
     },
     "execution_count": 24,
     "metadata": {},
     "output_type": "execute_result"
    }
   ],
   "source": [
    "favorite_language='python '\n",
    "favorite_language\n",
    "favorite_language.rstrip()\n",
    "favorite_language"
   ]
  },
  {
   "cell_type": "code",
   "execution_count": 26,
   "id": "ae72c665-4148-4013-97d1-3a7cb221bd45",
   "metadata": {},
   "outputs": [
    {
     "data": {
      "text/plain": [
       "'python'"
      ]
     },
     "execution_count": 26,
     "metadata": {},
     "output_type": "execute_result"
    }
   ],
   "source": [
    "favorite_language='python '\n",
    "favorite_language=favorite_language.rstrip()\n",
    "favorite_language"
   ]
  },
  {
   "cell_type": "code",
   "execution_count": 28,
   "id": "1c17a365-0f9b-453a-a33c-864ec8686053",
   "metadata": {},
   "outputs": [
    {
     "data": {
      "text/plain": [
       "'python'"
      ]
     },
     "execution_count": 28,
     "metadata": {},
     "output_type": "execute_result"
    }
   ],
   "source": [
    "favorite_language=' python '\n",
    "favorite_language.rstrip()\n",
    "favorite_language.lstrip()\n",
    "favorite_language.strip()"
   ]
  },
  {
   "cell_type": "code",
   "execution_count": 32,
   "id": "7bd6f87b-0c65-473a-806a-7d95d9a2214b",
   "metadata": {},
   "outputs": [
    {
     "data": {
      "text/plain": [
       "'nostarch.com'"
      ]
     },
     "execution_count": 32,
     "metadata": {},
     "output_type": "execute_result"
    }
   ],
   "source": [
    "nostarch_url='https://nostarch.com'\n",
    "nostarch_url.removeprefix('https://')"
   ]
  },
  {
   "cell_type": "code",
   "execution_count": 34,
   "id": "53a0b089-83be-4364-a973-e003566cf321",
   "metadata": {},
   "outputs": [
    {
     "name": "stdout",
     "output_type": "stream",
     "text": [
      "One of Python's strengths is its diverse commuity.\n"
     ]
    }
   ],
   "source": [
    "message=\"One of Python's strengths is its diverse commuity.\"\n",
    "print(message)"
   ]
  },
  {
   "cell_type": "code",
   "execution_count": 36,
   "id": "5b21b333-73fc-4524-8c91-8a69e26247f4",
   "metadata": {},
   "outputs": [
    {
     "name": "stdout",
     "output_type": "stream",
     "text": [
      "Hello Eric,would you like to learn some Python today?\n"
     ]
    }
   ],
   "source": [
    "Eric=\"Hello Eric,would you like to learn some Python today?\"\n",
    "print(Eric)"
   ]
  },
  {
   "cell_type": "code",
   "execution_count": 41,
   "id": "74586a2a-63b1-493e-80f1-6fee36c50bdc",
   "metadata": {},
   "outputs": [
    {
     "name": "stdout",
     "output_type": "stream",
     "text": [
      "hijikata\n"
     ]
    }
   ],
   "source": [
    "name=\"hijikata\"\n",
    "print(name.lower())"
   ]
  },
  {
   "cell_type": "code",
   "execution_count": 38,
   "id": "bc3f2422-e3c4-48ed-bcdb-976583e4ac38",
   "metadata": {},
   "outputs": [
    {
     "name": "stdout",
     "output_type": "stream",
     "text": [
      "HIJIKATA\n"
     ]
    }
   ],
   "source": [
    "name=\"hijikata\"\n",
    "print(name.upper())"
   ]
  },
  {
   "cell_type": "code",
   "execution_count": 40,
   "id": "443fd16f-191e-45e7-8e5e-dfda45d24471",
   "metadata": {},
   "outputs": [
    {
     "name": "stdout",
     "output_type": "stream",
     "text": [
      "Hijikata\n"
     ]
    }
   ],
   "source": [
    "name=\"hijikata\"\n",
    "print(name.title())"
   ]
  },
  {
   "cell_type": "code",
   "execution_count": 42,
   "id": "33459214-58b3-4534-ac26-446ce9188e6c",
   "metadata": {
    "scrolled": true
   },
   "outputs": [
    {
     "name": "stdout",
     "output_type": "stream",
     "text": [
      "Hijikata Toushirou once said,\"Apologize to Mayonnaise,baka.\"\n"
     ]
    }
   ],
   "source": [
    "message='Hijikata Toushirou once said,\"Apologize to Mayonnaise,baka.\"'\n",
    "print(message)"
   ]
  },
  {
   "cell_type": "code",
   "execution_count": 42,
   "id": "2d877f50-8252-4972-99c1-c27464ea9ce6",
   "metadata": {},
   "outputs": [
    {
     "name": "stdout",
     "output_type": "stream",
     "text": [
      "Hijikata Toushirou once said,\"Apologize to Mayonnaise,baka.\"\n"
     ]
    }
   ],
   "source": [
    "message='Hijikata Toushirou once said,\"Apologize to Mayonnaise,baka.\"'\n",
    "print(message)"
   ]
  },
  {
   "cell_type": "code",
   "execution_count": 43,
   "id": "89cb6d56-1b5a-4a58-bbbb-869918d6f1f1",
   "metadata": {},
   "outputs": [
    {
     "name": "stdout",
     "output_type": "stream",
     "text": [
      "Hijikata Toushirou once said,\"Apologize to Mayonnaise,baka.\"\n"
     ]
    }
   ],
   "source": [
    "famous_person=\"Hijikata Toushirou\"\n",
    "message=f'{famous_person} once said,\"Apologize to Mayonnaise,baka.\"'\n",
    "print(message)"
   ]
  },
  {
   "cell_type": "code",
   "execution_count": 43,
   "id": "7a8562c1-717f-4803-b1a6-d56640d78285",
   "metadata": {},
   "outputs": [
    {
     "name": "stdout",
     "output_type": "stream",
     "text": [
      "Hijikata Toushirou once said,\"Apologize to Mayonnaise,baka.\"\n"
     ]
    }
   ],
   "source": [
    "famous_person=\"Hijikata Toushirou\"\n",
    "message=f'{famous_person} once said,\"Apologize to Mayonnaise,baka.\"'\n",
    "print(message)"
   ]
  },
  {
   "cell_type": "code",
   "execution_count": 13,
   "id": "11f1912b-c062-498c-a40e-2b77c17e0786",
   "metadata": {},
   "outputs": [
    {
     "name": "stdout",
     "output_type": "stream",
     "text": [
      "  'Sakura\n",
      "no\thana Ma'   \n"
     ]
    }
   ],
   "source": [
    "name=\"  'Sakura\\nno\\thana Ma'   \"\n",
    "print(name)"
   ]
  },
  {
   "cell_type": "code",
   "execution_count": 59,
   "id": "4c4995d4-38af-4896-bf21-95c97d8d3650",
   "metadata": {},
   "outputs": [
    {
     "name": "stdout",
     "output_type": "stream",
     "text": [
      "'Sakura\n",
      "no\thana Ma'   \n"
     ]
    }
   ],
   "source": [
    "message=\"  'Sakura\\nno\\thana Ma'   \"\n",
    "print(message.lstrip())"
   ]
  },
  {
   "cell_type": "code",
   "execution_count": 19,
   "id": "0df6d544-81a6-44dd-8a06-874dc8d7166c",
   "metadata": {
    "scrolled": true
   },
   "outputs": [
    {
     "name": "stdout",
     "output_type": "stream",
     "text": [
      "  Sakura\n",
      "no\thana Ma\n"
     ]
    }
   ],
   "source": [
    "name='  Sakura\\nno\\thana Ma  '     \n",
    "print(name.rstrip())"
   ]
  },
  {
   "cell_type": "code",
   "execution_count": 64,
   "id": "e19ca91a-795c-4d0d-89ff-8188639f4a47",
   "metadata": {},
   "outputs": [
    {
     "name": "stdout",
     "output_type": "stream",
     "text": [
      "'Sakura\n",
      "no\thana Ma'\n"
     ]
    }
   ],
   "source": [
    "message=\"  'Sakura\\nno\\thana Ma'   \"\n",
    "print(message.strip())"
   ]
  },
  {
   "cell_type": "code",
   "execution_count": 24,
   "id": "d21d3b96-6ecf-40ec-a658-f2daf4b50fa0",
   "metadata": {},
   "outputs": [
    {
     "data": {
      "text/plain": [
       "'python_notes'"
      ]
     },
     "execution_count": 24,
     "metadata": {},
     "output_type": "execute_result"
    }
   ],
   "source": [
    "filename='python_notes.txt'\n",
    "filename.removesuffix('.txt')"
   ]
  },
  {
   "cell_type": "code",
   "execution_count": 25,
   "id": "ad80af3a-92c6-4e33-9cff-af244e49b94f",
   "metadata": {},
   "outputs": [
    {
     "data": {
      "text/plain": [
       "5"
      ]
     },
     "execution_count": 25,
     "metadata": {},
     "output_type": "execute_result"
    }
   ],
   "source": [
    "2+3"
   ]
  },
  {
   "cell_type": "code",
   "execution_count": 26,
   "id": "924e539f-2638-4ee2-969f-3b1356e98fe1",
   "metadata": {},
   "outputs": [
    {
     "data": {
      "text/plain": [
       "27"
      ]
     },
     "execution_count": 26,
     "metadata": {},
     "output_type": "execute_result"
    }
   ],
   "source": [
    "3**3"
   ]
  },
  {
   "cell_type": "code",
   "execution_count": 28,
   "id": "51dd754a-3a36-4c08-ba2a-a400e0f736f0",
   "metadata": {},
   "outputs": [
    {
     "data": {
      "text/plain": [
       "1.0"
      ]
     },
     "execution_count": 28,
     "metadata": {},
     "output_type": "execute_result"
    }
   ],
   "source": [
    "(3+2)/5"
   ]
  },
  {
   "cell_type": "code",
   "execution_count": 29,
   "id": "3f300229-33a8-4f95-b2ed-5bf568aa27fb",
   "metadata": {},
   "outputs": [
    {
     "data": {
      "text/plain": [
       "0.06"
      ]
     },
     "execution_count": 29,
     "metadata": {},
     "output_type": "execute_result"
    }
   ],
   "source": [
    "0.2*0.3"
   ]
  },
  {
   "cell_type": "code",
   "execution_count": 30,
   "id": "332c7add-0f10-4b5b-bef0-5f5663bc8370",
   "metadata": {},
   "outputs": [
    {
     "data": {
      "text/plain": [
       "2.0"
      ]
     },
     "execution_count": 30,
     "metadata": {},
     "output_type": "execute_result"
    }
   ],
   "source": [
    "4/2"
   ]
  },
  {
   "cell_type": "code",
   "execution_count": 32,
   "id": "1900aec0-fd3c-4dc9-a242-aa425de3bb3f",
   "metadata": {},
   "outputs": [
    {
     "data": {
      "text/plain": [
       "3.0"
      ]
     },
     "execution_count": 32,
     "metadata": {},
     "output_type": "execute_result"
    }
   ],
   "source": [
    "1+2.0"
   ]
  },
  {
   "cell_type": "code",
   "execution_count": 34,
   "id": "54747028-cee6-43f2-8165-429f6a8c6193",
   "metadata": {},
   "outputs": [
    {
     "name": "stdout",
     "output_type": "stream",
     "text": [
      "14000000000\n"
     ]
    }
   ],
   "source": [
    "universe_age=14_000_000_000\n",
    "print(universe_age)"
   ]
  },
  {
   "cell_type": "code",
   "execution_count": 35,
   "id": "995e5afd-9f84-42b8-afa5-7f33126d4452",
   "metadata": {},
   "outputs": [
    {
     "name": "stdout",
     "output_type": "stream",
     "text": [
      "0 0 0\n"
     ]
    }
   ],
   "source": [
    "x,y,z=0,0,0\n",
    "print(x,y,z)"
   ]
  },
  {
   "cell_type": "code",
   "execution_count": 37,
   "id": "d846373b-1f64-4bfa-b3c9-ceff789dda3e",
   "metadata": {},
   "outputs": [
    {
     "name": "stdout",
     "output_type": "stream",
     "text": [
      "8\n",
      "8\n",
      "8\n",
      "8.0\n"
     ]
    }
   ],
   "source": [
    "print(4+4)\n",
    "print(4*2)\n",
    "print(10-2)\n",
    "print(16/2)"
   ]
  },
  {
   "cell_type": "code",
   "execution_count": 64,
   "id": "b1d5880e-fd66-4128-a261-636ee7b31f96",
   "metadata": {},
   "outputs": [
    {
     "name": "stdout",
     "output_type": "stream",
     "text": [
      "14 is my favorite number\n"
     ]
    }
   ],
   "source": [
    "x=14\n",
    "message=f'{x} is my favorite number'\n",
    "print(message)"
   ]
  },
  {
   "cell_type": "code",
   "execution_count": 39,
   "id": "5cf76a56-11a7-441f-8447-8e8962adb560",
   "metadata": {},
   "outputs": [
    {
     "name": "stdout",
     "output_type": "stream",
     "text": [
      "Hello,Sukuranohana Ma!\n"
     ]
    }
   ],
   "source": [
    "# 向用户问好\n",
    "first_name=\"sukuranohana\"\n",
    "last_name=\"ma\"\n",
    "full_name=f\"{first_name} {last_name}\"\n",
    "print(f\"Hello,{full_name.title()}!\")"
   ]
  },
  {
   "cell_type": "code",
   "execution_count": 40,
   "id": "0dff34d9-3321-4f50-a92e-f4490587a739",
   "metadata": {},
   "outputs": [
    {
     "name": "stdout",
     "output_type": "stream",
     "text": [
      "Hijikata Toushirou once said,\"Apologize to Mayonnaise,baka.\"\n"
     ]
    }
   ],
   "source": [
    "# 游戏开始前的导言\n",
    "famous_person=\"Hijikata Toushirou\"\n",
    "message=f'{famous_person} once said,\"Apologize to Mayonnaise,baka.\"'\n",
    "print(message)"
   ]
  },
  {
   "cell_type": "code",
   "execution_count": 2,
   "id": "b2a8d282-f9b0-4c89-acb0-d01a9dadbfd3",
   "metadata": {},
   "outputs": [
    {
     "name": "stdout",
     "output_type": "stream",
     "text": [
      "The Zen of Python, by Tim Peters\n",
      "\n",
      "Beautiful is better than ugly.\n",
      "Explicit is better than implicit.\n",
      "Simple is better than complex.\n",
      "Complex is better than complicated.\n",
      "Flat is better than nested.\n",
      "Sparse is better than dense.\n",
      "Readability counts.\n",
      "Special cases aren't special enough to break the rules.\n",
      "Although practicality beats purity.\n",
      "Errors should never pass silently.\n",
      "Unless explicitly silenced.\n",
      "In the face of ambiguity, refuse the temptation to guess.\n",
      "There should be one-- and preferably only one --obvious way to do it.\n",
      "Although that way may not be obvious at first unless you're Dutch.\n",
      "Now is better than never.\n",
      "Although never is often better than *right* now.\n",
      "If the implementation is hard to explain, it's a bad idea.\n",
      "If the implementation is easy to explain, it may be a good idea.\n",
      "Namespaces are one honking great idea -- let's do more of those!\n"
     ]
    }
   ],
   "source": [
    "import this"
   ]
  }
 ],
 "metadata": {
  "kernelspec": {
   "display_name": "Python 3 (ipykernel)",
   "language": "python",
   "name": "python3"
  },
  "language_info": {
   "codemirror_mode": {
    "name": "ipython",
    "version": 3
   },
   "file_extension": ".py",
   "mimetype": "text/x-python",
   "name": "python",
   "nbconvert_exporter": "python",
   "pygments_lexer": "ipython3",
   "version": "3.11.7"
  }
 },
 "nbformat": 4,
 "nbformat_minor": 5
}
